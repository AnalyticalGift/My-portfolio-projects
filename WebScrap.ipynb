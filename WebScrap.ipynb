{
 "cells": [
  {
   "cell_type": "markdown",
   "id": "f9582fba-db84-4e17-9dda-a18c5f9e1137",
   "metadata": {},
   "source": [
    "Scraping data From Website"
   ]
  },
  {
   "cell_type": "code",
   "execution_count": 1,
   "id": "7f6c5926-f253-4613-a818-9f817bd071ec",
   "metadata": {},
   "outputs": [],
   "source": [
    "#Import necessary libraries\n",
    "from bs4 import BeautifulSoup\n",
    "import requests"
   ]
  },
  {
   "cell_type": "code",
   "execution_count": 2,
   "id": "c2c6a36c-55b8-4046-a866-30e83ed76f38",
   "metadata": {},
   "outputs": [],
   "source": [
    "#send HTTP GET request to the page\n",
    "url = 'https://en.wikipedia.org/wiki/List_of_largest_companies_in_the_United_States_by_revenue'\n",
    "page = requests.get(url)\n",
    "\n",
    "#Parse the HTML content using BeautifulSoup\n",
    "soup = BeautifulSoup(page.text, 'html')"
   ]
  },
  {
   "cell_type": "code",
   "execution_count": 4,
   "id": "93023059-f398-4184-8c01-2ce824824140",
   "metadata": {},
   "outputs": [],
   "source": [
    "#To find the table with required info\n",
    "table = soup.find_all('table')[1]"
   ]
  },
  {
   "cell_type": "code",
   "execution_count": 15,
   "id": "10e157c0-5152-4319-a08f-d0f5888f83fd",
   "metadata": {},
   "outputs": [],
   "source": [
    "#Extract table headers\n",
    "world_titles = table.find_all('th')"
   ]
  },
  {
   "cell_type": "code",
   "execution_count": 17,
   "id": "b34d370f-cc67-4e1e-a8d8-953cedb33acc",
   "metadata": {},
   "outputs": [
    {
     "name": "stdout",
     "output_type": "stream",
     "text": [
      "['Rank', 'Name', 'Industry', 'Revenue (USD millions)', 'Revenue growth', 'Employees', 'Headquarters']\n"
     ]
    }
   ],
   "source": [
    "#To get text value of table headers\n",
    "world_table_titles = [title.text.strip() for title in world_titles]\n"
   ]
  },
  {
   "cell_type": "code",
   "execution_count": 18,
   "id": "b94ee12e-d074-427d-bde3-009cca08c60b",
   "metadata": {},
   "outputs": [],
   "source": [
    "import pandas as pd"
   ]
  },
  {
   "cell_type": "code",
   "execution_count": 19,
   "id": "5dcc9590-bc33-4c1c-a854-19b390e2bb8c",
   "metadata": {},
   "outputs": [
    {
     "data": {
      "text/html": [
       "<div>\n",
       "<style scoped>\n",
       "    .dataframe tbody tr th:only-of-type {\n",
       "        vertical-align: middle;\n",
       "    }\n",
       "\n",
       "    .dataframe tbody tr th {\n",
       "        vertical-align: top;\n",
       "    }\n",
       "\n",
       "    .dataframe thead th {\n",
       "        text-align: right;\n",
       "    }\n",
       "</style>\n",
       "<table border=\"1\" class=\"dataframe\">\n",
       "  <thead>\n",
       "    <tr style=\"text-align: right;\">\n",
       "      <th></th>\n",
       "      <th>Rank</th>\n",
       "      <th>Name</th>\n",
       "      <th>Industry</th>\n",
       "      <th>Revenue (USD millions)</th>\n",
       "      <th>Revenue growth</th>\n",
       "      <th>Employees</th>\n",
       "      <th>Headquarters</th>\n",
       "    </tr>\n",
       "  </thead>\n",
       "  <tbody>\n",
       "  </tbody>\n",
       "</table>\n",
       "</div>"
      ],
      "text/plain": [
       "Empty DataFrame\n",
       "Columns: [Rank, Name, Industry, Revenue (USD millions), Revenue growth, Employees, Headquarters]\n",
       "Index: []"
      ]
     },
     "execution_count": 19,
     "metadata": {},
     "output_type": "execute_result"
    }
   ],
   "source": [
    "#Create a pandas dataframe for extracted data\n",
    "df = pd.DataFrame(columns = world_table_titles)\n"
   ]
  },
  {
   "cell_type": "code",
   "execution_count": 21,
   "id": "b8d98528-1565-4ea5-9534-331ea9371141",
   "metadata": {},
   "outputs": [],
   "source": [
    "#Extract table row data\n",
    "column_data = table.find_all('tr')"
   ]
  },
  {
   "cell_type": "code",
   "execution_count": 28,
   "id": "e0c38a99-7843-40e2-ae2b-8703c7873048",
   "metadata": {},
   "outputs": [],
   "source": [
    "#Get text value for table row datas\n",
    "for row in column_data[1:]:\n",
    "    row_data = row.find_all('td')\n",
    "    individual_row_data = [data.text.strip() for data in row_data]\n",
    "    \n",
    "    length = len(df)\n",
    "    df.loc[length] = individual_row_data\n",
    "    \n",
    "    \n",
    "\n"
   ]
  },
  {
   "cell_type": "code",
   "execution_count": 32,
   "id": "c75f53e9-b32c-490a-b20d-93194494ccb3",
   "metadata": {},
   "outputs": [],
   "source": [
    "#To save dataframe to a CSV file\n",
    "df.to_csv(r'C:\\Users\\Nsiegbe\\Downloads\\WebScraped1.csv', index = False)"
   ]
  },
  {
   "cell_type": "code",
   "execution_count": null,
   "id": "a3041b30-01a7-490a-a86f-09339d113f0d",
   "metadata": {},
   "outputs": [],
   "source": []
  },
  {
   "cell_type": "code",
   "execution_count": null,
   "id": "c728d3d1-ef08-496e-8e63-8883917d358e",
   "metadata": {},
   "outputs": [],
   "source": []
  },
  {
   "cell_type": "code",
   "execution_count": null,
   "id": "a9433ff5-24a4-4aa0-9fe6-cc38f15c4e49",
   "metadata": {},
   "outputs": [],
   "source": []
  },
  {
   "cell_type": "code",
   "execution_count": null,
   "id": "3465487a-342e-4a48-8127-842317019569",
   "metadata": {},
   "outputs": [],
   "source": []
  }
 ],
 "metadata": {
  "kernelspec": {
   "display_name": "Python 3 (ipykernel)",
   "language": "python",
   "name": "python3"
  },
  "language_info": {
   "codemirror_mode": {
    "name": "ipython",
    "version": 3
   },
   "file_extension": ".py",
   "mimetype": "text/x-python",
   "name": "python",
   "nbconvert_exporter": "python",
   "pygments_lexer": "ipython3",
   "version": "3.11.7"
  }
 },
 "nbformat": 4,
 "nbformat_minor": 5
}
